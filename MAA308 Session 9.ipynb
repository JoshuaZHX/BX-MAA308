{
 "cells": [
  {
   "cell_type": "markdown",
   "metadata": {},
   "source": [
    "# Practical Session 9 - Atlas based segmentation"
   ]
  },
  {
   "cell_type": "code",
   "execution_count": 1,
   "metadata": {},
   "outputs": [],
   "source": [
    "import numpy as np\n",
    "import matplotlib.image as mpimg \n",
    "import matplotlib.pyplot as plt\n",
    "import matplotlib\n",
    "\n",
    "%matplotlib inline"
   ]
  },
  {
   "cell_type": "code",
   "execution_count": 2,
   "metadata": {},
   "outputs": [],
   "source": [
    "import torch\n",
    "tensor_type = torch.DoubleTensor \n",
    "\n",
    "import os \n",
    "os.environ[\"KMP_DUPLICATE_LIB_OK\"] = \"TRUE\""
   ]
  },
  {
   "cell_type": "markdown",
   "metadata": {},
   "source": [
    "## Import data"
   ]
  },
  {
   "cell_type": "markdown",
   "metadata": {},
   "source": [
    "In this practical session, images will be a set of digits, with a template to estimate.\n",
    "Atlas estimation will be done using 19 images of the dataset, and the last digit will be considered as a new observation."
   ]
  },
  {
   "cell_type": "code",
   "execution_count": 3,
   "metadata": {},
   "outputs": [
    {
     "data": {
      "image/png": "[encoded data removed]",
      "text/plain": [
       "<Figure size 432x288 with 1 Axes>"
      ]
     },
     "metadata": {
      "needs_background": "light"
     },
     "output_type": "display_data"
    },
    {
     "data": {
      "image/png": "[encoded data removed]",
      "text/plain": [
       "<Figure size 432x288 with 1 Axes>"
      ]
     },
     "metadata": {
      "needs_background": "light"
     },
     "output_type": "display_data"
    },
    {
     "data": {
      "image/png": "[encoded data removed]",
      "text/plain": [
       "<Figure size 432x288 with 1 Axes>"
      ]
     },
     "metadata": {
      "needs_background": "light"
     },
     "output_type": "display_data"
    }
   ],
   "source": [
    "dico_images = {}\n",
    "for i in range(1,20):\n",
    "    dico_images[i] = np.array(mpimg.imread(\"./Images/digits/digit_2_sample_{}.png\".format(i))) \n",
    "    \n",
    "new_digit = np.array(mpimg.imread(\"./Images/digits/digit_2_sample_20.png\")) \n",
    "digit_template =  np.array(mpimg.imread(\"./Images/digits/digit_2_mean.png\")) \n",
    "\n",
    "plt.imshow(dico_images[1],cmap='gray')\n",
    "plt.title('A digit from dataset')\n",
    "plt.show()\n",
    "\n",
    "plt.imshow(digit_template,cmap='gray')\n",
    "plt.title('The template before optimization')\n",
    "plt.show()\n",
    "\n",
    "plt.imshow(new_digit,cmap='gray')\n",
    "plt.title('A new observation')\n",
    "plt.show()"
   ]
  },
  {
   "cell_type": "markdown",
   "metadata": {},
   "source": [
    "# Registration"
   ]
  },
  {
   "cell_type": "markdown",
   "metadata": {},
   "source": [
    "## Functions to do registration"
   ]
  },
  {
   "cell_type": "code",
   "execution_count": 4,
   "metadata": {},
   "outputs": [],
   "source": [
    "def _swap_colums(ar, i, j):\n",
    "    aux = np.copy(ar[:, i])\n",
    "    ar[:, i] = np.copy(ar[:, j])\n",
    "    ar[:, j] = np.copy(aux)\n",
    "    return np.copy(ar)\n",
    "\n",
    "\n",
    "\n",
    "def interpolate_image_torch(intensities, deformed_pixels, padding_width=1):\n",
    "    '''\n",
    "    This function, given original image in intensities tensor, \n",
    "    deformed pixels : coordinates of registered pixels in original image \n",
    "    returns the final registered image in deformed_intensities\n",
    "    ------- \n",
    "    intensities : (nr,nc)\n",
    "    deformed_pixels : (nr*nc,d)\n",
    "    -------\n",
    "    returns registered image in deformed_intensities, of shape (nr,nc)\n",
    "    \n",
    "    '''\n",
    "    padding_color = 1.\n",
    "    if intensities.ndim == 2:\n",
    "        i,j = intensities.size()\n",
    "        k = 1\n",
    "        intensities_cp = intensities[...,np.newaxis]\n",
    "    else :\n",
    "        i,j,k = intensities.size()\n",
    "        intensities_cp = intensities\n",
    "        \n",
    "    deformed_pixels += torch.from_numpy(np.array([float(padding_width), float(padding_width)])).view(1, 2).expand(i*j, 2).type(torch.DoubleTensor)\n",
    "\n",
    "    padded_intensities = torch.ones((i + 2 * padding_width, j + 2 * padding_width, k)).type(torch.DoubleTensor) * padding_color\n",
    "    padded_intensities[padding_width:padding_width + i, padding_width:padding_width + j] = intensities_cp\n",
    "\n",
    "    u, v = deformed_pixels[:, 0], deformed_pixels[:, 1]\n",
    "\n",
    "    u1 = torch.floor(u)\n",
    "    v1 = torch.floor(v)\n",
    "\n",
    "    u1 = torch.clamp(u1, 0, i - 1 + 2 * padding_width)\n",
    "    v1 = torch.clamp(v1, 0, j - 1 + 2 * padding_width)\n",
    "    u2 = torch.clamp(u1 + 1, 0, i - 1 + 2 * padding_width)\n",
    "    v2 = torch.clamp(v1 + 1, 0, j - 1 + 2 * padding_width)\n",
    "\n",
    "    fu = (u - u1).view(i * j, 1).expand(i*j, k)\n",
    "    fv = (v - v1).view(i * j, 1).expand(i*j, k)\n",
    "    gu = ((u1 + 1) - u).view(i * j, 1).expand(i*j, k)\n",
    "    gv = ((v1 + 1) - v).view(i * j, 1).expand(i*j, k)\n",
    "\n",
    "    deformed_intensities = (padded_intensities[u1.type(torch.LongTensor), v1.type(torch.LongTensor)] * gu * gv +\n",
    "                            padded_intensities[u1.type(torch.LongTensor), v2.type(torch.LongTensor)] * gu * fv +\n",
    "                            padded_intensities[u2.type(torch.LongTensor), v1.type(torch.LongTensor)] * fu * gv +\n",
    "                            padded_intensities[u2.type(torch.LongTensor), v2.type(torch.LongTensor)] * fu * fv).view(i, j, k)\n",
    "    deformed_intensities = torch.clamp(deformed_intensities, 0., 1.)\n",
    "\n",
    "    return deformed_intensities.reshape(intensities.size())\n",
    "\n"
   ]
  },
  {
   "cell_type": "code",
   "execution_count": 5,
   "metadata": {},
   "outputs": [],
   "source": [
    "def _differences(x, y):\n",
    "    \n",
    "    \"\"\" \n",
    "    x is of shape (n, 2)\n",
    "    y is of shape (m, 2)\n",
    "    --------\n",
    "    returns the difference between each element of x and y in a (2,n,m) tensor\n",
    "    \n",
    "    \"\"\"\n",
    "    x_col = x.t().unsqueeze(2)  # (M,D) -> (D,M,1)\n",
    "    y_lin = y.t().unsqueeze(1)  # (N,D) -> (D,1,N)\n",
    "    return x_col - y_lin\n",
    "\n",
    "def _squared_distances(x, y):\n",
    "    \n",
    "    \"\"\" \n",
    "    x is of shape (n, 2)\n",
    "    y is of shape (m, 2)\n",
    "    \n",
    "    --------\n",
    "    returns the squared euclidean distance between each element of x and y in a (n,m) tensor\n",
    "    \n",
    "    \"\"\"\n",
    "    \n",
    "    x_norm = (x ** 2).sum(1).view(-1, 1)\n",
    "    y_norm = (y ** 2).sum(1).view(1, -1)\n",
    "\n",
    "    dist = x_norm + y_norm - 2.0 * torch.mm(x, torch.transpose(y, 0, 1))\n",
    "    return dist\n",
    "\n",
    "\n",
    "def gaussian_kernel(x, y, kernel_width):\n",
    "    \"\"\" \n",
    "    x is of shape (n, 2)\n",
    "    y is of shape (m, 2)\n",
    "    kernel_width is a value\n",
    "    \n",
    "    --------\n",
    "    returns the gaussian kernel value between each element of x and y in a (n,m) tensor\n",
    "    \n",
    "    \"\"\"\n",
    "\n",
    "    squared_dist = _squared_distances(x, y)\n",
    "    return torch.exp(- squared_dist / kernel_width **2 )\n",
    "\n",
    "def h_gradx(cp, alpha, kernel_width):\n",
    "    \n",
    "    '''\n",
    "    This function computes derivative of the kernel for each couple (cp_i,alpha_i), with cp_i a control point(landmark).\n",
    "    ---------\n",
    "    \n",
    "    cp is of shape (n_landmarks, 2)\n",
    "    alpha is of shape (n_landmarks, 2)\n",
    "    kernel_width is a value\n",
    "    \n",
    "    --------\n",
    "    returns a tensor of shape (n_landmarks, 2)\n",
    "    '''\n",
    "    \n",
    "    sq = _squared_distances(cp, cp)\n",
    "    A = torch.exp(-sq / kernel_width **2)\n",
    "    B = _differences(cp, cp) * A\n",
    "    return - 2 * B / (kernel_width ** 2)\n",
    "    \n",
    "    \n",
    "def discretisation_step(cp, alpha, dt, kernel_width):\n",
    "    \n",
    "    '''\n",
    "   \n",
    "    This function computes one step of discretized equations for both alpha and control points. \n",
    "    ---------\n",
    "    \n",
    "    cp is of shape (n_landmarks, 2)\n",
    "    alpha is of shape (n_landmarks, 2)\n",
    "    dt is your time step \n",
    "    kernel_width is a value\n",
    "    \n",
    "    --------\n",
    "    \n",
    "    returns resulting control point and alpha displacements in tensors of size (n_landmarks,2) both.\n",
    "    \n",
    "    '''\n",
    "\n",
    "    res_cp = cp + dt * torch.matmul(gaussian_kernel(cp, cp, kernel_width), alpha)\n",
    "    res_alpha = alpha - dt / 2.  * torch.sum(alpha * (torch.matmul(h_gradx(cp, alpha, kernel_width), alpha)), 2).t()\n",
    "    return res_cp, res_alpha\n",
    "\n",
    "\n",
    "\n",
    "def shoot(cp, alpha, kernel_width, n_steps=10):\n",
    "     \n",
    "    \"\"\"\n",
    "    This is the trajectory of a Hamiltonian dynamic, with system seen in lecture notes. \n",
    "    Compute here trajectories of control points and alpha from t=0 to t=1.\n",
    "    ------------\n",
    "    cp is of shape (n_landmarks, 2)\n",
    "    alpha is of shape (n_landmarks, 2)\n",
    "    n_step : number of steps in your hamiltonian trajectory, use to define your time step\n",
    "    kernel_width is a value\n",
    "    --------\n",
    "    returns traj_cp and traj_alpha trajectories of control points and alpha in lists. \n",
    "    The length of a list is equal to n_step. \n",
    "    In each element of the list, you have a tensor of size (n_landmarks,2) returned by discretisation_step() function.\n",
    "    \"\"\"\n",
    "    \n",
    "    \n",
    "    traj_cp, traj_alpha = [], []\n",
    "    traj_cp.append(cp)\n",
    "    traj_alpha.append(alpha)\n",
    "    dt = 1. / float(n_steps-1)\n",
    "    \n",
    "    for _ in range(n_steps-1):\n",
    "        new_cp, new_alpha = discretisation_step(traj_cp[-1], traj_alpha[-1], dt, kernel_width)\n",
    "        traj_cp.append(new_cp)\n",
    "        traj_alpha.append(new_alpha)\n",
    "        \n",
    "    return traj_cp, traj_alpha"
   ]
  },
  {
   "cell_type": "code",
   "execution_count": 6,
   "metadata": {},
   "outputs": [],
   "source": [
    "def register_points(traj_cp, traj_alpha, y, kernel_width):\n",
    "    \"\"\"\n",
    "    This is the application of the computed trajectories on a set of points (landmarks or new points).\n",
    "    ------------\n",
    "    \n",
    "    traj_cp is the list containing the trajectory of your landmarks \n",
    "    traj_alpha is is the list containing the trajectory of your alpha \n",
    "    y : points you want to register (landmarks or other points), size (n,2)\n",
    "    kernel_width is a value\n",
    "    \n",
    "    --------\n",
    "    \n",
    "    returns traj_y,  the trajectory of points y, in a list of length n_step. \n",
    "    In each element of the list, you should have an array of dimension (n,2) (same dimensions as y)\n",
    "    \n",
    "    \n",
    "    \"\"\"\n",
    "    # We now flow the points\n",
    "    traj_y = [y]\n",
    "    n_steps = len(traj_cp) - 1\n",
    "    dt = 1. / float(n_steps)\n",
    "    \n",
    "    for i in range(len(traj_cp)-1):\n",
    "        new_y = traj_y[-1] + dt * torch.matmul(gaussian_kernel(traj_y[-1], traj_cp[i], kernel_width), traj_alpha[i])\n",
    "        traj_y.append(new_y)\n",
    "    \n",
    "    return traj_y"
   ]
  },
  {
   "cell_type": "code",
   "execution_count": 7,
   "metadata": {},
   "outputs": [],
   "source": [
    "def register_image(traj_cp, traj_alpha, image, kernel_width):\n",
    "    \"\"\"\n",
    "    This is the application of the computed trajectories on an image, by computation of inversed phi_1.\n",
    "    ------------\n",
    "    traj_cp is the list containing the trajectory of your landmarks \n",
    "    traj_alpha is the list containing the trajectory of your alpha \n",
    "    image : image to register, of size (nr,nc)\n",
    "    kernel_width is a value\n",
    "    --------\n",
    "    returns the registered image, of same dimensions as image, (nr,nc)\n",
    "    \n",
    "    \"\"\"\n",
    "    \n",
    "    if image.ndim==2:\n",
    "        i,j = image.shape\n",
    "        k = 1\n",
    "    else :\n",
    "        i,j,k = image.shape\n",
    "        \n",
    "    points = np.array(np.meshgrid(range(i), range(j)))\n",
    "    points = np.swapaxes(points, 0, 2).reshape(i * j, 2) \n",
    "    points = torch.from_numpy(points).type(tensor_type)\n",
    "    traj_cp_inverse = traj_cp[::-1]\n",
    "    traj_alpha_inverse = [-1 * elt for elt in traj_alpha[::-1]]\n",
    "    deformed_points = register_points(traj_cp_inverse, traj_alpha_inverse, points, kernel_width)[-1]\n",
    "    \n",
    "    return interpolate_image_torch(image, deformed_points)"
   ]
  },
  {
   "cell_type": "code",
   "execution_count": 8,
   "metadata": {},
   "outputs": [],
   "source": [
    "def compute_attachment_regularity_gradient(cp,momenta,template_data,subjects,kernel_width,gamma):\n",
    "    '''\n",
    "    This function compute attachments and regularities in order to compute the loss and optimize momenta, template with gradient descent.\n",
    "    In order to do this, you have to deform control points and template as with LDDMM, for each image/subject.\n",
    "    Then compute attachment and regularity for each deformed template and points, and finally the total attachment and total regularity.\n",
    "    cp : tensor (n_landmarks,2)\n",
    "    momenta : tensor (n_landmarks,2,n_images)\n",
    "    template_data : tensor (nr,nc)\n",
    "    subjects : tensor (nr,nc,n_images)\n",
    "    kernel_width and gamma : parameters - values\n",
    "    ----- \n",
    "    returns 4 objects :\n",
    "    the global attachement is a tensor with only one value inside, ex. tensor(10.0)\n",
    "    the global regularity is a tensor with only one value inside\n",
    "    deformed template according to each subject : numpy array (nr,nc,n_images) \n",
    "    deformed control points according to each subject : numpy array (n_landmarks,2,n_images)\n",
    "    '''\n",
    "    \n",
    "    number_of_subjects = momenta.size(-1)\n",
    "    \n",
    "    \n",
    "    deformed_points = torch.zeros((cp.size(0),cp.size(1),number_of_subjects))\n",
    "    deformed_template = torch.zeros((template_data.size(0),template_data.size(1),number_of_subjects))\n",
    "    regularities_list = torch.zeros((number_of_subjects,))\n",
    "    attachments_list = torch.zeros((number_of_subjects,))\n",
    "    \n",
    "    \n",
    "    \n",
    "    # deform like LDDMM and update attachment and regularity\n",
    "    \n",
    "    for s in range(number_of_subjects):\n",
    "        traj_cp,traj_momenta = shoot(cp, momenta[:,:,s], kernel_width, n_steps=10)\n",
    "        deformed_points[:,:,s] = register_points(traj_cp, traj_momenta, cp, kernel_width)[-1]\n",
    "        deformed_template[:,:,s] = register_image(traj_cp, traj_momenta, template_data, kernel_width)\n",
    "\n",
    "        regularities_list[s] = gamma * torch.sum(torch.mm(momenta[:,:,s].T,torch.mm(gaussian_kernel(cp,cp,kernel_width), momenta[:,:,s])))  # gamma * torch.sum(torch.matmul(inverse_metric(cp, cp, kernel_width), momenta[:,:,s])**2) # \n",
    "        attachments_list[s] =  torch.sum((deformed_template[:,:,s].contiguous().view(-1) - subjects[:,:,s].contiguous().view(-1)) ** 2) #torch.mean((deformed_data[...,s]-subjects[...,s])**2) # \n",
    " \n",
    "    \n",
    "    attachment = torch.sum(attachments_list)\n",
    "    regularity = torch.sum(regularities_list)\n",
    "   \n",
    "\n",
    "    ### here is computed the total loss and  gradient with torch.backward()\n",
    "    total = attachment + regularity\n",
    "    total.backward()\n",
    "\n",
    "    \n",
    "    \n",
    "    return attachment.detach(),regularity.detach(),deformed_template.detach(),deformed_points.detach()"
   ]
  },
  {
   "cell_type": "code",
   "execution_count": 9,
   "metadata": {},
   "outputs": [],
   "source": [
    "def atlas_learn_template(dico_images,niter,kernel_width,gamma,eps,template=None,landmarks=None):\n",
    "    \n",
    "    '''\n",
    "    This is the principal function, which computes gradient descent to minimize cost function,\n",
    "    find optimal trajectories for control points, alpha and deformed template\n",
    "    Take a dictionary with images, niter number of iterations, kernel_width and gamma parameters, eps for step size\n",
    "    template and landmarks are optionals.\n",
    "    -------\n",
    "    returns \n",
    "    cp : deformation of  control points to match with each subject : numpy array (n_landmarks,2,n_images)\n",
    "    alpha : optimized momenta,  numpy array (n_landmarks,2,n_images)\n",
    "    template_data : the optimized template, numpy array (nr,nc) \n",
    "    deformed_template : deformation of template according to each image,  numpy array (nr,nc,n_images)\n",
    "\n",
    "    '''\n",
    "    ## Convert from dico of images to 3 dimensional array (nr,nc,n_images)\n",
    "    \n",
    "    Images = dico_images[1]\n",
    "    for key, value in dico_images.items():\n",
    "        if key==2:\n",
    "            Images = np.stack((Images,value),axis=-1)   \n",
    "        elif key !=1 :\n",
    "            Images = np.concatenate((Images,value[...,np.newaxis]),axis=-1)   \n",
    "\n",
    "    Images_base = torch.from_numpy(Images.copy()).type(tensor_type)\n",
    "    \n",
    "    ### Convert template, if given, to a tensor (nx,ny)\n",
    "    ### If no template is provided, take first image of set, but it's not the optimal solution\n",
    "    if template is None :\n",
    "        template_data = torch.from_numpy(Images[...,0].copy()).type(tensor_type)  \n",
    "    else :\n",
    "        template_data = torch.from_numpy(template).type(tensor_type)\n",
    "        \n",
    "    #### Initialize control points and momenta for template\n",
    "    #### Here, with digits database, no control points are provided, \n",
    "    #### So we build a regular grid with interval equals to kernel_width.\n",
    "    #### You can plot control points to see where they are exactly.\n",
    "    #### cp tensor is of  shape (n_landmarks,2) with y-axis coordinates in first column and x-axis coordinates in second column\n",
    "   \n",
    "    if landmarks is not None :\n",
    "        cp = torch.from_numpy(landmarks1).type(tensor_type)\n",
    "    else :\n",
    "        cp = np.array(np.meshgrid(np.arange(0,template.shape[0]-2,kernel_width), np.arange(0,template.shape[1]-2,kernel_width)))\n",
    "        cp = np.swapaxes(cp, 0, 2).reshape(-1, 2) \n",
    "        cp = torch.from_numpy(cp).type(tensor_type)\n",
    "        \n",
    "\n",
    "\n",
    "    #######################    \n",
    "    #### Iterations    \n",
    "        \n",
    "    number_of_subjects = Images_base.size(-1)\n",
    "    alpha = torch.zeros((cp.size(0),cp.size(1),number_of_subjects)).type(tensor_type)\n",
    "    alpha.requires_grad_(True)\n",
    "    template_data.requires_grad_(True)\n",
    "    \n",
    "    for it in range(niter):\n",
    "        \n",
    "        current_attachment, current_regularity,deformed_template,deformed_points = compute_attachment_regularity_gradient(cp,alpha,template_data,Images_base,kernel_width,gamma)\n",
    "  \n",
    "        gradient = {}\n",
    "        gradient['alpha'] = alpha.grad.detach()\n",
    "        gradient['template_data'] = template_data.grad.detach()\n",
    "\n",
    "        eps_mom = eps/np.sqrt(np.sum(gradient['alpha'].numpy() ** 2))\n",
    "        eps_template = eps/np.sqrt(np.sum(gradient['template_data'].numpy() ** 2)+10**-5)\n",
    "        \n",
    "        with torch.no_grad():\n",
    "            alpha -=   alpha.grad * eps_mom\n",
    "            template_data -=   template_data.grad * eps_template\n",
    "            \n",
    "        alpha.grad.zero_()\n",
    "        template_data.grad.zero_()\n",
    "\n",
    "\n",
    "    \n",
    "    return cp.detach().numpy(),alpha.detach().numpy(),np.clip(template_data.detach().numpy(),0,1),deformed_template.detach().numpy()"
   ]
  },
  {
   "cell_type": "markdown",
   "metadata": {},
   "source": [
    "## Execution"
   ]
  },
  {
   "cell_type": "code",
   "execution_count": 10,
   "metadata": {},
   "outputs": [],
   "source": [
    "eps = 1 ## Don't play with this one\n",
    "\n",
    "#### Play with these parameters\n",
    "\n",
    "kernel_width = 3\n",
    "niter = 200\n",
    "gamma = 0.01\n",
    "\n",
    "\n",
    "## Execution of the algorithm\n",
    "control_points, momenta,optim_template,deformed_digits = atlas_learn_template(dico_images,niter,kernel_width,gamma,eps,template=digit_template,landmarks=None)\n"
   ]
  },
  {
   "cell_type": "markdown",
   "metadata": {},
   "source": [
    "### Obtained Template"
   ]
  },
  {
   "cell_type": "code",
   "execution_count": 11,
   "metadata": {},
   "outputs": [
    {
     "data": {
      "image/png": "[encoded data removed]",
      "text/plain": [
       "<Figure size 432x288 with 1 Axes>"
      ]
     },
     "metadata": {
      "needs_background": "light"
     },
     "output_type": "display_data"
    }
   ],
   "source": [
    "plt.figure()\n",
    "plt.imshow(optim_template,cmap='gray')\n",
    "plt.title(\"Template\")\n",
    "plt.show()"
   ]
  },
  {
   "cell_type": "markdown",
   "metadata": {},
   "source": [
    "### Registered digits from estimated template"
   ]
  },
  {
   "cell_type": "code",
   "execution_count": 12,
   "metadata": {},
   "outputs": [
    {
     "data": {
      "image/png": "[encoded data removed]",
      "text/plain": [
       "<Figure size 360x2160 with 38 Axes>"
      ]
     },
     "metadata": {
      "needs_background": "light"
     },
     "output_type": "display_data"
    }
   ],
   "source": [
    "n_subjects = deformed_digits.shape[-1]\n",
    "plt.figure(figsize=(5,30))\n",
    "number_image = 1\n",
    "\n",
    "for i in dico_images.keys():\n",
    "    plt.subplot(n_subjects,2,number_image)\n",
    "    plt.imshow(dico_images[i],cmap='gray')\n",
    "    if i==1:\n",
    "        plt.title('Original digit')\n",
    "\n",
    "    plt.subplot(n_subjects,2,number_image+1)\n",
    "    plt.imshow(deformed_digits[...,i-1],cmap='gray')\n",
    "    if i==1:\n",
    "        plt.title('Reconstructed digit from atlas')\n",
    "\n",
    "    number_image += 2\n",
    "plt.show()"
   ]
  },
  {
   "cell_type": "markdown",
   "metadata": {},
   "source": [
    "# Segmentation \n",
    "Now that you have your estimated template, you want to segment it and segment data images."
   ]
  },
  {
   "cell_type": "code",
   "execution_count": null,
   "metadata": {},
   "outputs": [],
   "source": []
  },
  {
   "cell_type": "code",
   "execution_count": null,
   "metadata": {},
   "outputs": [],
   "source": []
  }
 ],
 "metadata": {
  "kernelspec": {
   "display_name": "Python 3 (ipykernel)",
   "language": "python",
   "name": "python3"
  },
  "language_info": {
   "codemirror_mode": {
    "name": "ipython",
    "version": 3
   },
   "file_extension": ".py",
   "mimetype": "text/x-python",
   "name": "python",
   "nbconvert_exporter": "python",
   "pygments_lexer": "ipython3",
   "version": "3.9.7"
  },
  "latex_envs": {
   "LaTeX_envs_menu_present": true,
   "autoclose": true,
   "autocomplete": true,
   "bibliofile": "biblio.bib",
   "cite_by": "apalike",
   "current_citInitial": 1,
   "eqLabelWithNumbers": true,
   "eqNumInitial": 1,
   "hotkeys": {
    "equation": "Ctrl-E",
    "itemize": "Ctrl-I"
   },
   "labels_anchors": false,
   "latex_user_defs": false,
   "report_style_numbering": false,
   "user_envs_cfg": false
  },
  "toc": {
   "base_numbering": 1,
   "nav_menu": {},
   "number_sections": true,
   "sideBar": true,
   "skip_h1_title": false,
   "title_cell": "Table of Contents",
   "title_sidebar": "Contents",
   "toc_cell": false,
   "toc_position": {},
   "toc_section_display": true,
   "toc_window_display": false
  },
  "widgets": {
   "application/vnd.jupyter.widget-state+json": {
    "state": {},
    "version_major": 2,
    "version_minor": 0
   }
  }
 },
 "nbformat": 4,
 "nbformat_minor": 4
}
