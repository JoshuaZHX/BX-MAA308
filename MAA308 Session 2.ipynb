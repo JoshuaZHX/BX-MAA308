{
 "cells": [
  {
   "cell_type": "code",
   "execution_count": 1,
   "id": "cb5c4f10-5a3c-4be4-a034-d1a5a2bbc2d0",
   "metadata": {},
   "outputs": [],
   "source": [
    "import matplotlib.image as mpimg \n",
    "import matplotlib.pyplot as plt \n",
    "import numpy as np\n",
    "import matplotlib as mpl\n",
    "%matplotlib inline"
   ]
  },
  {
   "cell_type": "markdown",
   "id": "cc43f5b8-04f6-4b6c-9d7d-8b98d9b9bee8",
   "metadata": {},
   "source": [
    "# Gradient Descent"
   ]
  },
  {
   "cell_type": "markdown",
   "id": "76c8905d-f591-4b1b-aa25-79b9b41caedc",
   "metadata": {
    "tags": []
   },
   "source": [
    "## Problem"
   ]
  },
  {
   "cell_type": "markdown",
   "id": "e8dd863d-973e-4d78-9d3c-34c6ece6e56d",
   "metadata": {},
   "source": [
    "We consider the probem of finding x solution of :\n",
    "$$\n",
    "\\underset{x \\in \\mathbb{R}^d}{min} \\ f(x)\n",
    "$$\n",
    "with $C(x)$  a differentiable cost function."
   ]
  },
  {
   "cell_type": "markdown",
   "id": "41a9c2a4-158a-40bd-9fe6-50e0e25103b5",
   "metadata": {},
   "source": [
    "The original gradient descent algorithm consists in creating  a sequence of $(x^{(n)})$'s that will converge towards a **local minimum of $f$**. \n",
    "\n",
    "The sequence is given by :\n",
    "\\begin{equation}\n",
    "\\left\\{\n",
    "\\begin{aligned}\n",
    "&x^{(0)} \\in \\mathbb{R}^d \\\\\n",
    "&x^{(n+1)} = x^{(n)} - \\delta_n \\nabla f(x^{(n)})\n",
    "\\end{aligned}\n",
    "\\right.\n",
    "\\end{equation}\n",
    "\n",
    "where $\\delta_n > 0$ is a learning step, $\\nabla C(x^{(n)}) \\in \\mathbb{R}^d$ the gradient of $f$ at point $x^{(n)}$."
   ]
  },
  {
   "cell_type": "markdown",
   "id": "711b264f-7b16-4878-9eec-2ec7cd055019",
   "metadata": {},
   "source": [
    "Choice on the learning step $\\delta$ is really important to obtain convergence. To optimize this learning step $\\delta$, several variants of the gradient descent exist. You can consider :\n",
    "- a constant $\\delta$\n",
    "- a decreasing $\\delta$ in time\n",
    "- accelerated (Nesterov), adapted (Adagrad)\n",
    "- ..."
   ]
  },
  {
   "cell_type": "markdown",
   "id": "df29de68-2daf-4676-a250-f541fa9abba5",
   "metadata": {},
   "source": [
    "**Instruction**: create a first gradient descent function, which takes as argument a constant learning step, an initial value $x^{(0)}$ and the function computing gradient at point x. "
   ]
  },
  {
   "cell_type": "code",
   "execution_count": 18,
   "id": "edaec93c-cac8-496f-aebb-991fb513b6bf",
   "metadata": {},
   "outputs": [],
   "source": [
    "'''\n",
    "TO DO\n",
    "'''\n",
    "\n",
    "def gradient_descent(x_start, delta, gradient_function, n_steps=20):\n",
    "    '''\n",
    "    x_start : (d,)\n",
    "    delta : value \n",
    "    gradient_function : function giving the gradient at x\n",
    "    -----\n",
    "    returns x_seq : array (n_steps,d) with successive values of x in the gradient descent algorithm\n",
    "    '''\n",
    "    d     = len(x_start) \n",
    "    x_seq = np.zeros((n_steps, d)) \n",
    "    for i in range(n_steps): \n",
    "        if (i == 0): \n",
    "            x_seq[i] = x_start \n",
    "        else: \n",
    "            x_seq[i] = x_seq[i-1] - delta * gradient_function(x_seq[i-1]) \n",
    "    \n",
    "    return x_seq "
   ]
  },
  {
   "cell_type": "markdown",
   "id": "026976e3-a2b3-46ff-a225-93c218da7c17",
   "metadata": {
    "tags": []
   },
   "source": [
    "## Gradient descent in 2-D"
   ]
  },
  {
   "cell_type": "markdown",
   "id": "709f39f4-0ecf-4012-bdc9-a4934c0aea95",
   "metadata": {},
   "source": [
    "We consider a simple problem, corresponding to the minimization of a 2-D quadratic form\n",
    "$$ f(x) = \\frac{1}{2} ( x_1^2 + \\tau x_2^2 ) ,$$\n",
    "where $\\tau>0$ controls the anisotropy, and hence the difficulty, of the problem."
   ]
  },
  {
   "cell_type": "code",
   "execution_count": 71,
   "id": "093ebb39-dbae-47ad-b1d0-bf8471bb7573",
   "metadata": {},
   "outputs": [],
   "source": [
    "tau = 4"
   ]
  },
  {
   "cell_type": "markdown",
   "id": "aab4f80d-bed6-4322-af76-7c8da30ef3d0",
   "metadata": {},
   "source": [
    "The function $f$ to minimize."
   ]
  },
  {
   "cell_type": "code",
   "execution_count": 4,
   "id": "8a95a90f-a5cc-40c7-9c5a-fdbaad36378f",
   "metadata": {},
   "outputs": [],
   "source": [
    "f = lambda x : ( x[0]**2 + tau*x[1]**2 ) / 2"
   ]
  },
  {
   "cell_type": "markdown",
   "id": "fdbd9908-e443-4ed1-9955-f3ff64f3ad8e",
   "metadata": {},
   "source": [
    "Note: a 'lambda' function is a one-line function definition."
   ]
  },
  {
   "cell_type": "markdown",
   "id": "30d4fad4-c843-4826-90d2-d2265efe0be1",
   "metadata": {},
   "source": [
    "Display the function as a 2-D image."
   ]
  },
  {
   "cell_type": "code",
   "execution_count": 5,
   "id": "4c55c308-e797-4bd0-8afb-fa133ccac79c",
   "metadata": {},
   "outputs": [],
   "source": [
    "tx = np.linspace(-.3,1,101)\n",
    "ty = np.linspace(-.6,.6,101)\n",
    "[v,u] = np.meshgrid(ty,tx)\n",
    "F = ( u ** 2 + tau * v ** 2 ) / 2"
   ]
  },
  {
   "cell_type": "code",
   "execution_count": 6,
   "id": "b27a60bf-bb27-420e-af4b-177b1e0182dc",
   "metadata": {},
   "outputs": [
    {
     "data": {
      "image/png": "[encoded data removed]",
      "text/plain": [
       "<Figure size 432x288 with 1 Axes>"
      ]
     },
     "metadata": {
      "needs_background": "light"
     },
     "output_type": "display_data"
    }
   ],
   "source": [
    "plt.contourf(tx,ty,F.transpose(),20);"
   ]
  },
  {
   "cell_type": "markdown",
   "id": "663f70de-9635-4107-8258-2c3e5780cfe1",
   "metadata": {},
   "source": [
    "**Instruction** : compute the  function giving the gradient of $f$."
   ]
  },
  {
   "cell_type": "code",
   "execution_count": 70,
   "id": "cda6f5f6-9699-4f30-8f2a-09ede6a777f7",
   "metadata": {},
   "outputs": [],
   "source": [
    "'''\n",
    "TO DO\n",
    "'''\n",
    "\n",
    "def f_grad(x): \n",
    "    return x[0] + tau * x[1] "
   ]
  },
  {
   "cell_type": "markdown",
   "id": "6e740c28-6dd4-4a25-890e-7f6957dd971a",
   "metadata": {},
   "source": [
    "The step size should satisfy $\\eta_t < 2/\\tau$.\n",
    "We use here a constant step size."
   ]
  },
  {
   "cell_type": "code",
   "execution_count": 8,
   "id": "c9ae1abe-135a-4399-a435-9e76b7864b62",
   "metadata": {},
   "outputs": [],
   "source": [
    "delta = 1.6/tau"
   ]
  },
  {
   "cell_type": "code",
   "execution_count": 74,
   "id": "3a685659-9868-4115-98ca-b298bcb6937e",
   "metadata": {},
   "outputs": [],
   "source": [
    "x0 = np.array( [.9,.3] ) ## Initial point of the descent"
   ]
  },
  {
   "cell_type": "markdown",
   "id": "fab7b1b0-08e3-4c2a-96b1-261b3ba6f069",
   "metadata": {},
   "source": [
    "**Instructions**: \n",
    "- Perform a gradient descent using a fixed step size $\\delta_n=\\delta$ with the function you computed above.\n",
    "- Display the decay of the energy $f(x^{(n)})$ through the iteration. (Save the iterates so that X(:,n) corresponds to $x^{(n)}$.)"
   ]
  },
  {
   "cell_type": "code",
   "execution_count": 38,
   "id": "83268987-19e1-4ef7-bb66-328f4d77ae58",
   "metadata": {},
   "outputs": [
    {
     "data": {
      "image/png": "[encoded data removed]",
      "text/plain": [
       "<Figure size 432x288 with 1 Axes>"
      ]
     },
     "metadata": {
      "needs_background": "light"
     },
     "output_type": "display_data"
    }
   ],
   "source": [
    "'''\n",
    "TO DO\n",
    "'''\n",
    "n_steps = 20 \n",
    "x_seq = gradient_descent(x0, delta, f_grad, n_steps) \n",
    "f_seq = np.zeros(n_steps) \n",
    "for i in range(n_steps): \n",
    "    f_seq[i] = f(x_seq[i]) \n",
    "\n",
    "fg1 = plt.figure(1) \n",
    "ax1 = fg1.add_subplot(111)\n",
    "ax1.plot([i for i in range(n_steps)], f_seq) \n",
    "plt.show() "
   ]
  },
  {
   "cell_type": "markdown",
   "id": "e05b70c4-087d-4f15-af1b-784a1115b4b9",
   "metadata": {},
   "source": [
    "**Instructions**: run again a gradient descent for different step sizes $\\delta$. And plot the different trajectories."
   ]
  },
  {
   "cell_type": "code",
   "execution_count": 37,
   "id": "5743971b-3c61-4a93-824d-3c388dee8d9c",
   "metadata": {},
   "outputs": [
    {
     "data": {
      "image/png": "[encoded data removed]",
      "text/plain": [
       "<Figure size 432x288 with 1 Axes>"
      ]
     },
     "metadata": {
      "needs_background": "light"
     },
     "output_type": "display_data"
    }
   ],
   "source": [
    "'''\n",
    "TO DO\n",
    "'''\n",
    "delta   = 1/tau\n",
    "n_steps = 20 \n",
    "x_seq = gradient_descent(x0, delta, f_grad, n_steps) \n",
    "f_seq = np.zeros(n_steps) \n",
    "for i in range(n_steps): \n",
    "    f_seq[i] = f(x_seq[i]) \n",
    "\n",
    "fg2 = plt.figure(1) \n",
    "ax1 = fg2.add_subplot(111)\n",
    "ax1.plot([i for i in range(n_steps)], f_seq) \n",
    "plt.show() "
   ]
  },
  {
   "cell_type": "markdown",
   "id": "df984542-b2b1-4067-84c6-161301b8fc3b",
   "metadata": {
    "tags": []
   },
   "source": [
    "### Accelerated gradient descent"
   ]
  },
  {
   "cell_type": "markdown",
   "id": "538d414b-d6cf-4ba8-a763-bd482e59d3e1",
   "metadata": {},
   "source": [
    "Recall that to improve on gradient descent, it seems we need to abandon the relaxation sequence property. This means we shouldn’t insist that the function value always be decreasing; that perhaps allowing some oscillation is not only good, but also necessary to achieve a faster overall convergence."
   ]
  },
  {
   "cell_type": "markdown",
   "id": "ae4ba8cd-2c27-410d-9e4d-1524f1a9f7a3",
   "metadata": {},
   "source": [
    "From Nesterov work, the accelerated gradient descent is given by: "
   ]
  },
  {
   "cell_type": "markdown",
   "id": "1451ec03-71b0-45e5-8666-827ada2ded79",
   "metadata": {},
   "source": [
    "\\begin{equation}\n",
    "\\left\\{\n",
    "\\begin{aligned}\n",
    "y^{(n)} &=x^{(n)}- 1/L \\nabla f\\left(x^{(n)}\\right)  \\\\\n",
    "t^{(n+1)} &= (1 + \\sqrt{1+4t^2_n)}/2 \\\\ \n",
    "x^{(n+1)} &=y^{(n)}-\\frac{t^{(n)}-1}{t^{(n+1)}} (y^{(n)} - y^{(n-1)}) \\\\\n",
    "\\end{aligned}\n",
    "\\right.\n",
    "\\end{equation}"
   ]
  },
  {
   "cell_type": "markdown",
   "id": "9f8586f3-8fb3-456e-979b-ecf6b2129b6d",
   "metadata": {},
   "source": [
    "**Instruction**: create a function computing the accelerated gradient descent. Then execute it as before to minimize the same function $f$. "
   ]
  },
  {
   "cell_type": "code",
   "execution_count": 91,
   "id": "a443d8bc-f436-4f89-97db-3f470d250e2d",
   "metadata": {},
   "outputs": [],
   "source": [
    "'''\n",
    "TO DO\n",
    "'''\n",
    "\n",
    "def accelerated_gradient_descent(x0, L, gradient_function, N): \n",
    "    d     = len(x0) \n",
    "    x_seq = np.zeros((N, d)) \n",
    "    y_seq = np.zeros((N, d)) \n",
    "    t_seq = np.zeros(N) \n",
    "    for i in range(N): \n",
    "        if (i == 0): \n",
    "            t_seq[i] = 1 \n",
    "            x_seq[i] = x0 \n",
    "            y_seq[i] = x0 \n",
    "        elif (i == 1): \n",
    "            t_seq[i] = (1 + np.sqrt(1 + 4*(t_seq[i-1])**2)) / 2 \n",
    "            x_seq[i] = x_seq[i-1] - ((1/L) * gradient_function(x_seq[i-1])) \n",
    "            y_seq[i] = x_seq[i] - ((1/L) * gradient_function(x_seq[i])) \n",
    "        else: \n",
    "            t_seq[i] = (1 + np.sqrt(1 + 4*(t_seq[i-1])**2)) / 2 \n",
    "            x_seq[i] = y_seq[i-1] - (((t_seq[i-1] - 1)/t_seq[i]) * (y_seq[i-1] - y_seq[i-2])) \n",
    "            y_seq[i] = x_seq[i] - ((1/L) * gradient_function(x_seq[i])) \n",
    "            \n",
    "    return x_seq"
   ]
  },
  {
   "cell_type": "code",
   "execution_count": 93,
   "id": "bada5c77",
   "metadata": {},
   "outputs": [
    {
     "data": {
      "image/png": "[encoded data removed]",
      "text/plain": [
       "<Figure size 432x288 with 1 Axes>"
      ]
     },
     "metadata": {
      "needs_background": "light"
     },
     "output_type": "display_data"
    }
   ],
   "source": [
    "L = 5 \n",
    "N = 20 \n",
    "x_seq = accelerated_gradient_descent(x0, L, f_grad, N) \n",
    "f_seq = np.zeros(N) \n",
    "for i in range(N): \n",
    "    f_seq[i] = f(x_seq[i]) \n",
    "    \n",
    "fg3 = plt.figure(1) \n",
    "ax1 = fg3.add_subplot(111)\n",
    "ax1.plot([i for i in range(N)], f_seq) \n",
    "plt.show() "
   ]
  },
  {
   "cell_type": "markdown",
   "id": "ee55506f-2411-47d4-bc01-6a100d6e88d6",
   "metadata": {},
   "source": [
    "### Adaptive Gradient"
   ]
  },
  {
   "cell_type": "markdown",
   "id": "3a3c604a-4abc-45f8-b782-a459a2460985",
   "metadata": {},
   "source": [
    "**Instruction**: Compute the adaptive gradient descent as in the lecture notes. Execute it as before."
   ]
  },
  {
   "cell_type": "code",
   "execution_count": 77,
   "id": "e83d468c-5c94-45b6-b703-0edd3b72462b",
   "metadata": {},
   "outputs": [],
   "source": [
    "'''\n",
    "TO DO\n",
    "'''\n",
    "\n",
    "def adaptive_gradient_descent(x0, delta, k, function, gradient_function, N): \n",
    "    d     = len(x0) \n",
    "    x_seq = np.zeros((N, d)) \n",
    "    for i in range(N): \n",
    "        if (i == 0): \n",
    "            x_seq[i] = x0 \n",
    "        else: \n",
    "            x_tilda = x_seq[i-1] - delta * gradient_function(x_seq[i-1]) \n",
    "            \n",
    "            if (function(x_tilda) >= function(x_seq[i-1])): \n",
    "                delta = delta / 2 \n",
    "                k = 0 \n",
    "            else: \n",
    "                x_seq[i] = x_tilda \n",
    "                k += 1 \n",
    "            \n",
    "            if (k >= N): \n",
    "                delta = 1.5 * delta \n",
    "    \n",
    "    return x_seq "
   ]
  },
  {
   "cell_type": "code",
   "execution_count": 94,
   "id": "a155fb47",
   "metadata": {},
   "outputs": [
    {
     "data": {
      "image/png": "[encoded data removed]",
      "text/plain": [
       "<Figure size 432x288 with 1 Axes>"
      ]
     },
     "metadata": {
      "needs_background": "light"
     },
     "output_type": "display_data"
    }
   ],
   "source": [
    "L = 5 \n",
    "N = 30 \n",
    "x_seq = adaptive_gradient_descent(x0, delta, 0, f, f_grad, N) \n",
    "f_seq = np.zeros(N) \n",
    "for i in range(N): \n",
    "    f_seq[i] = f(x_seq[i]) \n",
    "    \n",
    "fg4 = plt.figure(1) \n",
    "ax1 = fg4.add_subplot(111)\n",
    "ax1.plot([i for i in range(N)], f_seq) \n",
    "plt.show() "
   ]
  },
  {
   "cell_type": "markdown",
   "id": "8dd92f9d-ab00-4428-a6d0-979579acf970",
   "metadata": {},
   "source": [
    "## Gradient descent with PyTorch"
   ]
  },
  {
   "cell_type": "markdown",
   "id": "39b62b0c-e169-4a25-828a-2eb25e839f40",
   "metadata": {},
   "source": [
    "**A simple regression problem**\n",
    "\n",
    "\n",
    "$$ y = a + bx + \\epsilon$$\n",
    "\n",
    "It is a simple linear regression with one feature $x$, two parameters $a$ and $b$, $\\epsilon$ being a white noise."
   ]
  },
  {
   "cell_type": "markdown",
   "id": "29198883-6eed-4935-bae0-1969d3ee7013",
   "metadata": {},
   "source": [
    "The loss (function to minimize) for a regression problem is the Mean Square Error (MSE):\n",
    "$$\n",
    "MSE= \\frac{1}{N} \\sum_{i=1}^N (y_i - \\hat{y}_i)^2\n",
    "$$\n",
    "\n",
    "where $\\hat{y}=a+ b*x$ is a prediction."
   ]
  },
  {
   "cell_type": "markdown",
   "id": "a563b088-b5fd-4514-9917-a627bade0fb3",
   "metadata": {},
   "source": [
    "We want here to use (stochastic) gradient descent to estimate parameters $a$ and $b$.\n",
    "\n",
    "The next step is to compute partial derivatives with respect to each parameter.\n",
    "Then,a gradient descent step allows to update each parameter.\n",
    "\n",
    "$$\n",
    "a^{(t+1)} = a^{(t)} - \\eta \\frac{\\partial MSE}{\\partial a}\n",
    "$$\n",
    "$$\n",
    "b^{(t+1)} = b^{(t)} - \\eta \\frac{\\partial MSE}{\\partial b} \n",
    "$$"
   ]
  },
  {
   "cell_type": "markdown",
   "id": "94cd5bc5-ba97-460a-ab53-cfa8dd1e8a75",
   "metadata": {},
   "source": [
    "**Stochastic Gradient Descent**: you have a set of data $X$, of size $n$, and you simply use a random sample $x_i \\in X$, $i \\in \\{1,\\dots,n \\}$ at each gradient descent step.\n",
    "\n",
    "\n",
    "So for the regression problem, at each step of the gradient descent algorithm you pick a single pair $(x_i,y_i)$ to compute the loss function and estimate $a^{(t+1)}$ and $b^{(t+1)}$."
   ]
  },
  {
   "cell_type": "markdown",
   "id": "f7fba612-25bf-4255-8523-dd5d6c26c296",
   "metadata": {},
   "source": [
    "### Introduction to Pytorch"
   ]
  },
  {
   "cell_type": "code",
   "execution_count": null,
   "id": "b8aa4347",
   "metadata": {},
   "outputs": [],
   "source": [
    "conda install pytorch"
   ]
  },
  {
   "cell_type": "code",
   "execution_count": 96,
   "id": "2e5d7ee5-69e8-491d-b6d6-ceb81bee1c9e",
   "metadata": {},
   "outputs": [
    {
     "ename": "ModuleNotFoundError",
     "evalue": "No module named 'torch'",
     "output_type": "error",
     "traceback": [
      "\u001b[1;31m---------------------------------------------------------------------------\u001b[0m",
      "\u001b[1;31mModuleNotFoundError\u001b[0m                       Traceback (most recent call last)",
      "\u001b[1;32m~\\AppData\\Local\\Temp/ipykernel_1380/2300129645.py\u001b[0m in \u001b[0;36m<module>\u001b[1;34m\u001b[0m\n\u001b[1;32m----> 1\u001b[1;33m \u001b[1;32mimport\u001b[0m \u001b[0mtorch\u001b[0m\u001b[1;33m\u001b[0m\u001b[1;33m\u001b[0m\u001b[0m\n\u001b[0m\u001b[0;32m      2\u001b[0m \u001b[1;32mimport\u001b[0m \u001b[0mtorch\u001b[0m\u001b[1;33m.\u001b[0m\u001b[0moptim\u001b[0m \u001b[1;32mas\u001b[0m \u001b[0moptim\u001b[0m\u001b[1;33m\u001b[0m\u001b[1;33m\u001b[0m\u001b[0m\n",
      "\u001b[1;31mModuleNotFoundError\u001b[0m: No module named 'torch'"
     ]
    }
   ],
   "source": [
    "import torch\n",
    "import torch.optim as optim"
   ]
  },
  {
   "cell_type": "markdown",
   "id": "76ec6e36-d012-4979-9ade-a1ad8242dcb4",
   "metadata": {},
   "source": [
    "PyTorch has objects named _tensors_, that are arrays with 3 or more dimensions. They are working like numpy arrays (which are technically tensors), with similar math functions..."
   ]
  },
  {
   "cell_type": "code",
   "execution_count": null,
   "id": "81344d78-c1fa-404b-9abf-c27b51a5d75d",
   "metadata": {},
   "outputs": [],
   "source": [
    "eta = 1e-1\n",
    "\n",
    "# Data Generation\n",
    "np.random.seed(42)\n",
    "x = np.random.rand(100, 1)\n",
    "y = 1 + 2 * x + .1 * np.random.randn(100, 1)\n",
    "\n",
    "x_tensor = torch.from_numpy(x).float()\n",
    "y_tensor = torch.from_numpy(y).float()"
   ]
  },
  {
   "cell_type": "markdown",
   "id": "53f2eb04-5591-47fd-8f91-2b1eb31c8838",
   "metadata": {},
   "source": [
    "What distinguishes a tensor used for data from a tensor used as a (trainable) parameter/weight (like we want for a or b)?"
   ]
  },
  {
   "cell_type": "markdown",
   "id": "90043bc8-b61d-492e-a6d1-4793b41e020b",
   "metadata": {},
   "source": [
    "The latter tensors require computation of its gradients, so we can update their values. That's what the `requires_grad=True` argument is good for."
   ]
  },
  {
   "cell_type": "code",
   "execution_count": null,
   "id": "1d8f3c91-28b1-469c-a09a-b3e099e6288c",
   "metadata": {},
   "outputs": [],
   "source": [
    "# FIRST\n",
    "# Initializes parameters \"a\" and \"b\" randomly,\n",
    "# since we want to apply gradient descent on these parameters, we need\n",
    "# to set REQUIRES_GRAD = TRUE\n",
    "a = torch.randn(1, requires_grad=True, dtype=torch.float)\n",
    "b = torch.randn(1, requires_grad=True, dtype=torch.float)\n",
    "print(a, b)"
   ]
  },
  {
   "cell_type": "markdown",
   "id": "3067f7fc-bb9d-4083-8a3a-a56b898f2b4e",
   "metadata": {},
   "source": [
    "### Automatic differentiation with autograd, part of PyTorch.\n",
    "\n",
    "We need to invoke `backward()` method from the Python variable that have partial derivatives w.r.t parameters, so here the loss!"
   ]
  },
  {
   "cell_type": "code",
   "execution_count": null,
   "id": "b396288f-6c4f-474c-9717-f964cec1ae4a",
   "metadata": {},
   "outputs": [],
   "source": [
    "# One run of gradient descent with pytorch\n",
    "\n",
    "yhat = a + b * x_tensor\n",
    "error = y_tensor - yhat\n",
    "loss = (error ** 2).mean()\n",
    "loss.backward()\n",
    "print(a.grad)\n",
    "print(b.grad)\n",
    "\n",
    "with torch.no_grad():\n",
    "    a -= eta * a.grad\n",
    "    b -= eta * b.grad\n",
    "    \n",
    "a.grad.zero_()\n",
    "b.grad.zero_()\n",
    "\n",
    "print(a,b)"
   ]
  },
  {
   "cell_type": "markdown",
   "id": "3d0bc9ca-fb8b-44e6-a528-090c57949acc",
   "metadata": {},
   "source": [
    "PyTorch’s ability to build a dynamic computation graph from every Python operation that involves any gradient-computing tensor or its dependencies."
   ]
  },
  {
   "cell_type": "markdown",
   "id": "571c68f1-558b-4bec-880f-4085f2900bce",
   "metadata": {},
   "source": [
    "**Stochastic Gradient Descent version**\n",
    "\n",
    "We use here the existing SGD optimizer of Pytorch."
   ]
  },
  {
   "cell_type": "code",
   "execution_count": null,
   "id": "f2e01e81-7693-4fc3-942c-5ab3236fa2be",
   "metadata": {},
   "outputs": [],
   "source": [
    "# FIRST\n",
    "# Initializes parameters \"a\" and \"b\" randomly,\n",
    "# since we want to apply gradient descent on these parameters, we need\n",
    "# to set REQUIRES_GRAD = TRUE\n",
    "np.random.seed(10)\n",
    "a = torch.randn(1, requires_grad=True, dtype=torch.float)\n",
    "b = torch.randn(1, requires_grad=True, dtype=torch.float)\n",
    "print(a, b)"
   ]
  },
  {
   "cell_type": "code",
   "execution_count": null,
   "id": "2536dadc-8087-4b35-a0d0-d79971bcce13",
   "metadata": {},
   "outputs": [],
   "source": [
    "# Defines a SGD optimizer to update the parameters a and b\n",
    "optimizer = optim.SGD([a, b], lr=eta)\n",
    "\n",
    "indexes = np.arange(0,y_tensor.shape[0])\n",
    "np.random.shuffle(indexes)\n",
    "\n",
    "for i in indexes:\n",
    "    \n",
    "    yhat = a + b * x_tensor[i]\n",
    "    error = y_tensor[i] - yhat\n",
    "    loss = (error ** 2).mean()\n",
    "    loss.backward()\n",
    "    \n",
    "\n",
    "    optimizer.step() #### performs the updates\n",
    "    ##### Equivalent to following lines\n",
    "    # with torch.no_grad():\n",
    "        # a -= eta * a.grad\n",
    "        # b -= eta * b.grad\n",
    "    # ---------\n",
    "    \n",
    "    optimizer.zero_grad()\n",
    "    ####Equivalent to following lines\n",
    "    # a.grad.zero_()\n",
    "    # b.grad.zero_()\n",
    "    # --------\n",
    "\n",
    "print(a,b)"
   ]
  },
  {
   "cell_type": "markdown",
   "id": "4c20ea1c-edfc-4559-9dbf-2f33ccae1243",
   "metadata": {
    "tags": []
   },
   "source": [
    "# Euler's Method"
   ]
  },
  {
   "cell_type": "markdown",
   "id": "a0da62dc-f286-4aaf-bed6-38061b790db3",
   "metadata": {},
   "source": [
    "## Initial problem"
   ]
  },
  {
   "cell_type": "markdown",
   "id": "17003701-bbe6-442a-a2a4-8edf8aa04d05",
   "metadata": {},
   "source": [
    "Here we consider the following Initial Value Problem (IVP):\n",
    "\\begin{equation}\n",
    "\\left\\{\n",
    "\\begin{aligned}\n",
    "&y^\\prime=f\\left(x,y\\right), \\quad x\\geq x_0\\\\\n",
    "&y(0,y)= y_0\n",
    "\\end{aligned}\n",
    "\\right.\n",
    "\\end{equation}\n",
    "with $y : x \\mapsto y(x) \\in \\mathbb{R}^d$, $d \\in \\mathbb{N}^*$.\n",
    "\n",
    "It is assumed that the considered Initial Value Problem possesses a unique solution for $x \\in [x_0,x_{end}]$ with $x_{end}>x_0$."
   ]
  },
  {
   "cell_type": "markdown",
   "id": "d2886b11-035d-4a92-bc7c-fa78db4074e8",
   "metadata": {},
   "source": [
    "## Resolution"
   ]
  },
  {
   "cell_type": "markdown",
   "id": "ab22cc11-acff-4480-8f2c-01e4d7290b47",
   "metadata": {},
   "source": [
    "We want to implement a method that takes as argument initial time $x_0$, final time $x_{end}$, step size $h$, an starting point $y(0,y) = y_0$, a function $f$ and that uses the iterative Euler formula :\n",
    "$$\n",
    "y_{i+1} = y_i + h f(x_i,y_i),\\  \\forall 1 \\leq i \\leq n.\n",
    "$$\n",
    "\n",
    "\n",
    "with $x_i = x_{i-1} + h$ and $n \\in \\{0,...,N\\}$ with $N = \\frac{x_{end}-x_0}{h}+1$."
   ]
  },
  {
   "cell_type": "markdown",
   "id": "f97d3d3c-8699-4346-a725-263b36f64576",
   "metadata": {},
   "source": [
    "**Instruction**: Implement this method, with a function $f$, initial time $x_0$, final time $x_{end}$, step size $h$ and starting point $y_0 = y(x_0)$."
   ]
  },
  {
   "cell_type": "code",
   "execution_count": null,
   "id": "ad0160c9-e8b0-4a26-828b-dbe6198d0f2e",
   "metadata": {},
   "outputs": [],
   "source": [
    "'''\n",
    "TO DO\n",
    "'''\n"
   ]
  },
  {
   "cell_type": "markdown",
   "id": "8a45e452-3a01-4dae-8699-363b4fb1ab9b",
   "metadata": {},
   "source": [
    "## Example"
   ]
  },
  {
   "cell_type": "markdown",
   "id": "1da423e5-1aea-4a21-a7a9-d85487b85da1",
   "metadata": {},
   "source": [
    "We consider the model problem \n",
    "$$\n",
    "f(x,y) =  2 - e^{-4x} - 2y,\\quad y(0) = 1.\n",
    "$$\n",
    "The solution to the corresponding IVP is\n",
    "$$\n",
    "y_{sol} : x \\mapsto 1 + \\frac{1}{2} e ^{- 4x} - \\frac{1}{2} e ^{ - 2x }.\n",
    "$$"
   ]
  },
  {
   "cell_type": "code",
   "execution_count": null,
   "id": "e1c9cf3c-802b-4df7-b1f9-536132185080",
   "metadata": {},
   "outputs": [],
   "source": [
    "def f(x,y):\n",
    "    return 2 - np.exp(-4*x) - 2 * y"
   ]
  },
  {
   "cell_type": "code",
   "execution_count": null,
   "id": "a7050be1-08c2-4f56-8d0b-8f066f87e859",
   "metadata": {},
   "outputs": [],
   "source": [
    "def y_exa(x):\n",
    "    return 1 + 1/2 * np.exp(-4*x) - 1/2 * np.exp(-2*x)"
   ]
  },
  {
   "cell_type": "code",
   "execution_count": null,
   "id": "75c5346c-61eb-4aad-8fe7-ff10d1967ec9",
   "metadata": {},
   "outputs": [],
   "source": [
    "x0 = 0.\n",
    "xend = 1.4\n",
    "h = 0.1\n",
    "y0 = 1."
   ]
  },
  {
   "cell_type": "markdown",
   "id": "a5bab287-7f01-4a47-9f8c-c67dcac2ad65",
   "metadata": {},
   "source": [
    "**Instruction**: use the Euler method to solve this problem, and plot the estimated values. Add a plot of the true values."
   ]
  },
  {
   "cell_type": "code",
   "execution_count": null,
   "id": "acf9e5f6-0f7f-469a-a250-cdeecd386981",
   "metadata": {},
   "outputs": [],
   "source": [
    "'''\n",
    "TO DO\n",
    "'''\n"
   ]
  }
 ],
 "metadata": {
  "kernelspec": {
   "display_name": "Python 3 (ipykernel)",
   "language": "python",
   "name": "python3"
  },
  "language_info": {
   "codemirror_mode": {
    "name": "ipython",
    "version": 3
   },
   "file_extension": ".py",
   "mimetype": "text/x-python",
   "name": "python",
   "nbconvert_exporter": "python",
   "pygments_lexer": "ipython3",
   "version": "3.9.7"
  },
  "widgets": {
   "application/vnd.jupyter.widget-state+json": {
    "state": {},
    "version_major": 2,
    "version_minor": 0
   }
  }
 },
 "nbformat": 4,
 "nbformat_minor": 5
}
